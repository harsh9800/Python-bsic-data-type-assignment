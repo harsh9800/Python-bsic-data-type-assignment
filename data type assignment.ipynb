{
 "cells": [
  {
   "cell_type": "code",
   "execution_count": 1,
   "id": "1cb82e44-c9f8-4b15-8a2a-272849ffd95a",
   "metadata": {},
   "outputs": [],
   "source": [
    "#1. Write a program to reverse a string."
   ]
  },
  {
   "cell_type": "code",
   "execution_count": 29,
   "id": "53233b1d-0401-4f82-b90f-c37628aa1d35",
   "metadata": {},
   "outputs": [
    {
     "name": "stdin",
     "output_type": "stream",
     "text": [
      "Enter the string: HARSH\n"
     ]
    },
    {
     "name": "stdout",
     "output_type": "stream",
     "text": [
      "Reverse of  HARSH is HSRAH\n"
     ]
    }
   ],
   "source": [
    "input_string=input(\"Enter the string:\")\n",
    "a=input_string[::-1]\n",
    "print(\"Reverse of \",input_string ,\"is\" ,a)"
   ]
  },
  {
   "cell_type": "code",
   "execution_count": 7,
   "id": "8dcde9f5-e248-41af-85a2-f1cba8bb9648",
   "metadata": {},
   "outputs": [],
   "source": [
    "#2. Check if a string is a palindrome."
   ]
  },
  {
   "cell_type": "code",
   "execution_count": 48,
   "id": "3aad5097-a366-46f4-b1e7-96433d1f43fd",
   "metadata": {},
   "outputs": [
    {
     "name": "stdin",
     "output_type": "stream",
     "text": [
      "Enter the string: MADAM\n"
     ]
    },
    {
     "name": "stdout",
     "output_type": "stream",
     "text": [
      "string is palindrome\n"
     ]
    }
   ],
   "source": [
    "input_string=input(\"Enter the string:\")\n",
    "if input_string == input_string[::-1] :\n",
    "    print(\"string is palindrome\")\n",
    "else:\n",
    "    print(\"string is not palindrome\")"
   ]
  },
  {
   "cell_type": "code",
   "execution_count": 18,
   "id": "997d049b-7bc5-47be-99b5-2ede8b3c64df",
   "metadata": {},
   "outputs": [],
   "source": [
    "#3. Convert a string to uppercase."
   ]
  },
  {
   "cell_type": "code",
   "execution_count": 30,
   "id": "45bb0a7c-a848-414a-a3c2-73724ca6ff91",
   "metadata": {},
   "outputs": [
    {
     "name": "stdin",
     "output_type": "stream",
     "text": [
      "Enter the string: harsh\n"
     ]
    },
    {
     "data": {
      "text/plain": [
       "'HARSH'"
      ]
     },
     "execution_count": 30,
     "metadata": {},
     "output_type": "execute_result"
    }
   ],
   "source": [
    "input_string=input(\"Enter the string:\")\n",
    "input_string.upper()"
   ]
  },
  {
   "cell_type": "code",
   "execution_count": 24,
   "id": "70bd5581-5a42-4669-9aca-4e2371f81593",
   "metadata": {},
   "outputs": [],
   "source": [
    "#4. Convert a string to lowercase."
   ]
  },
  {
   "cell_type": "code",
   "execution_count": 31,
   "id": "9e66ac34-806a-49fd-9417-34fe88af7033",
   "metadata": {},
   "outputs": [
    {
     "name": "stdin",
     "output_type": "stream",
     "text": [
      "Enter the string: HARSH\n"
     ]
    },
    {
     "data": {
      "text/plain": [
       "'harsh'"
      ]
     },
     "execution_count": 31,
     "metadata": {},
     "output_type": "execute_result"
    }
   ],
   "source": [
    "input_string=input(\"Enter the string:\")\n",
    "input_string.lower()"
   ]
  },
  {
   "cell_type": "code",
   "execution_count": 27,
   "id": "b32161ae-d3bc-45e1-879d-d94e185b3653",
   "metadata": {},
   "outputs": [],
   "source": [
    "#5. Count the number of vowels in a string."
   ]
  },
  {
   "cell_type": "code",
   "execution_count": 45,
   "id": "774f59a4-81a5-4a5c-9c97-94ef7da46e10",
   "metadata": {},
   "outputs": [
    {
     "name": "stdin",
     "output_type": "stream",
     "text": [
      "Enter the string: DELHI\n"
     ]
    },
    {
     "name": "stdout",
     "output_type": "stream",
     "text": [
      "2\n"
     ]
    }
   ],
   "source": [
    "input_string=input(\"Enter the string:\").lower()\n",
    "No_of_vowels=input_string.count(\"a\")+input_string.count(\"e\")+input_string.count(\"i\")+input_string.count(\"o\")+input_string.count(\"u\")\n",
    "print(No_of_vowels)"
   ]
  },
  {
   "cell_type": "code",
   "execution_count": null,
   "id": "6008c415-af8c-49fe-966d-17fdbd82e0ac",
   "metadata": {},
   "outputs": [],
   "source": [
    "#6. Count the number of consonants in a string. **Same as line [45]**"
   ]
  },
  {
   "cell_type": "code",
   "execution_count": 49,
   "id": "6e7509f9-fd46-4725-beb5-386d40e7fc81",
   "metadata": {},
   "outputs": [],
   "source": [
    "#7. Remove all whitespaces from a string."
   ]
  },
  {
   "cell_type": "code",
   "execution_count": 54,
   "id": "a200342c-ebee-4678-80c9-aafb7c333905",
   "metadata": {},
   "outputs": [
    {
     "name": "stdin",
     "output_type": "stream",
     "text": [
      "Enter the string:                        HARSH                        \n"
     ]
    },
    {
     "name": "stdout",
     "output_type": "stream",
     "text": [
      "HARSH\n"
     ]
    }
   ],
   "source": [
    "input_string=input(\"Enter the string:\")\n",
    "a=input_string.rstrip()\n",
    "b=a.lstrip()\n",
    "print(b)"
   ]
  },
  {
   "cell_type": "code",
   "execution_count": 55,
   "id": "5b6cceaf-8297-49a6-8f49-216f75274ff9",
   "metadata": {},
   "outputs": [],
   "source": [
    "#8. Find the length of a string without using the `len()` function.**Can't solve**"
   ]
  },
  {
   "cell_type": "code",
   "execution_count": 58,
   "id": "480a88a9-e776-4b7b-9136-44803186d421",
   "metadata": {},
   "outputs": [],
   "source": [
    "#9. Check if a string contains a specific word."
   ]
  },
  {
   "cell_type": "code",
   "execution_count": 11,
   "id": "62e95e4c-343b-4bef-a571-43c2cb5e0aa2",
   "metadata": {},
   "outputs": [
    {
     "name": "stdin",
     "output_type": "stream",
     "text": [
      "Enter the string: My name is harsh\n"
     ]
    },
    {
     "name": "stdout",
     "output_type": "stream",
     "text": [
      "It consists harsh\n"
     ]
    }
   ],
   "source": [
    "input_string=input(\"Enter the string:\").lower()\n",
    "if \"harsh\" in input_string:\n",
    "    print(\"It consists harsh\")\n",
    "else:\n",
    "    print(\"Noooooooooooooo\")"
   ]
  },
  {
   "cell_type": "code",
   "execution_count": 12,
   "id": "4d0d1150-3e9e-4ebc-9f39-4e40d77d9c4b",
   "metadata": {},
   "outputs": [],
   "source": [
    "#10. Replace a word in a string with another word."
   ]
  },
  {
   "cell_type": "code",
   "execution_count": 27,
   "id": "fa8e6cb1-8f1c-4c66-b254-af25c0585134",
   "metadata": {},
   "outputs": [
    {
     "name": "stdin",
     "output_type": "stream",
     "text": [
      "Enter the new string:  Harshu\n"
     ]
    },
    {
     "name": "stdout",
     "output_type": "stream",
     "text": [
      "['Harshu', 'Vishnoi']\n"
     ]
    }
   ],
   "source": [
    "List=[\"Harsh\",\"Vishnoi\"]\n",
    "List[0] = input(\"Enter the new string: \")\n",
    "print(List)"
   ]
  },
  {
   "cell_type": "code",
   "execution_count": 28,
   "id": "6a25cb5b-4c29-4ab7-a4c8-d78aeb378312",
   "metadata": {},
   "outputs": [],
   "source": [
    "#11. Count the occurrences of a word in a string."
   ]
  },
  {
   "cell_type": "code",
   "execution_count": 57,
   "id": "8be3ce10-dd5f-4ddd-8033-0cb79b85c06d",
   "metadata": {},
   "outputs": [
    {
     "name": "stdin",
     "output_type": "stream",
     "text": [
      "Enter the string:  Harsh is a good boy.Harsh is very intelligent\n",
      "Enter the word which you want to count:  harsh\n"
     ]
    },
    {
     "data": {
      "text/plain": [
       "2"
      ]
     },
     "execution_count": 57,
     "metadata": {},
     "output_type": "execute_result"
    }
   ],
   "source": [
    "input_string=input(\"Enter the string: \").lower()\n",
    "input_string.count(input(\"Enter the word which you want to count: \").lower())"
   ]
  },
  {
   "cell_type": "code",
   "execution_count": 45,
   "id": "bcebb0ee-d0c5-42de-9a68-1f6c7cbc5cd2",
   "metadata": {},
   "outputs": [],
   "source": [
    "#12. Find the first occurrence of a word in a string."
   ]
  },
  {
   "cell_type": "code",
   "execution_count": 58,
   "id": "b11090ab-b022-4953-a17d-4f2fc9b4873c",
   "metadata": {},
   "outputs": [
    {
     "name": "stdin",
     "output_type": "stream",
     "text": [
      "Enter the string:  Harsh is a good boy\n",
      "Enter string to get its first ocurrence:  a\n"
     ]
    },
    {
     "data": {
      "text/plain": [
       "1"
      ]
     },
     "execution_count": 58,
     "metadata": {},
     "output_type": "execute_result"
    }
   ],
   "source": [
    "input_string=input(\"Enter the string: \").lower()\n",
    "input_string.find(input(\"Enter string to get its first ocurrence: \").lower())"
   ]
  },
  {
   "cell_type": "code",
   "execution_count": 59,
   "id": "f97bd523-6c11-4cb2-a506-7c2acc848231",
   "metadata": {},
   "outputs": [],
   "source": [
    "#13. Find the last occurrence of a word in a string."
   ]
  },
  {
   "cell_type": "code",
   "execution_count": 65,
   "id": "547b747c-1c36-47dd-bef4-f331648670dc",
   "metadata": {},
   "outputs": [
    {
     "name": "stdin",
     "output_type": "stream",
     "text": [
      "Enter the string Harsh is a good boy\n",
      "Enter the string to get last occurence h\n"
     ]
    },
    {
     "data": {
      "text/plain": [
       "4"
      ]
     },
     "execution_count": 65,
     "metadata": {},
     "output_type": "execute_result"
    }
   ],
   "source": [
    "input_string=input(\"Enter the string\").lower()\n",
    "input_string.rfind(input(\"Enter the string to get last occurence\").lower())"
   ]
  },
  {
   "cell_type": "code",
   "execution_count": 66,
   "id": "45bb7bf8-b3aa-4546-a1eb-2fa46535d83b",
   "metadata": {},
   "outputs": [],
   "source": [
    "#14. Split a string into a list of words."
   ]
  },
  {
   "cell_type": "code",
   "execution_count": 76,
   "id": "e60b670d-c48f-4a37-b8ac-8226f788acca",
   "metadata": {},
   "outputs": [
    {
     "name": "stdin",
     "output_type": "stream",
     "text": [
      "Enter the string Harsh is agood boy\n"
     ]
    },
    {
     "data": {
      "text/plain": [
       "['Harsh', 'is', 'agood', 'boy']"
      ]
     },
     "execution_count": 76,
     "metadata": {},
     "output_type": "execute_result"
    }
   ],
   "source": [
    "input_string=input(\"Enter the string\")\n",
    "input_string.split()"
   ]
  },
  {
   "cell_type": "code",
   "execution_count": 77,
   "id": "98c58ad1-a113-46bf-9813-a77accb9bf97",
   "metadata": {},
   "outputs": [],
   "source": [
    "#15. Join a list of words into a string."
   ]
  },
  {
   "cell_type": "code",
   "execution_count": 88,
   "id": "18669850-2e01-42b4-b0bc-5600a820c5a7",
   "metadata": {},
   "outputs": [
    {
     "data": {
      "text/plain": [
       "'Harsh is a good boy'"
      ]
     },
     "execution_count": 88,
     "metadata": {},
     "output_type": "execute_result"
    }
   ],
   "source": [
    "l=[\"Harsh\",\"is\",\"a\",\"good\",\"boy\"]\n",
    "\" \".join(l)"
   ]
  },
  {
   "cell_type": "code",
   "execution_count": null,
   "id": "de1a9dfa-92ab-468c-b582-51ae5443114d",
   "metadata": {},
   "outputs": [],
   "source": []
  }
 ],
 "metadata": {
  "kernelspec": {
   "display_name": "Python 3 (ipykernel)",
   "language": "python",
   "name": "python3"
  },
  "language_info": {
   "codemirror_mode": {
    "name": "ipython",
    "version": 3
   },
   "file_extension": ".py",
   "mimetype": "text/x-python",
   "name": "python",
   "nbconvert_exporter": "python",
   "pygments_lexer": "ipython3",
   "version": "3.10.8"
  }
 },
 "nbformat": 4,
 "nbformat_minor": 5
}
